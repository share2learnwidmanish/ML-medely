{
 "cells": [
  {
   "cell_type": "markdown",
   "id": "8c65209a",
   "metadata": {},
   "source": [
    "### Find which customer are at the highest risk of leaving the bank\n",
    "- Target label: Exited\n",
    "- Feature variable:\n",
    "\n",
    "Part0: EDA \n",
    "Part1: Data Preprocessing <br>\n",
    "Part2: building ANN <br>\n",
    "Part3: Training ANN <br>\n",
    "Part4: Making prediction and evaluating model<br>"
   ]
  },
  {
   "cell_type": "code",
   "execution_count": null,
   "id": "22952fcc",
   "metadata": {},
   "outputs": [],
   "source": []
  },
  {
   "cell_type": "code",
   "execution_count": 23,
   "id": "0a935905",
   "metadata": {},
   "outputs": [],
   "source": [
    "import pandas as pd\n",
    "import numpy as np\n",
    "import tensorflow as tf\n",
    "import matplotlib.pyplot as plt\n",
    "from pandas_summary import DataFrameSummary\n",
    "import seaborn as sns"
   ]
  },
  {
   "cell_type": "code",
   "execution_count": 16,
   "id": "bfcecd82",
   "metadata": {},
   "outputs": [
    {
     "name": "stdout",
     "output_type": "stream",
     "text": [
      "Tensorflow: 2.3.0 , Pandas: 1.2.4\n"
     ]
    }
   ],
   "source": [
    "### For records \n",
    "print( f\"Tensorflow: {tf.__version__} , Pandas: {pd.__version__}\")"
   ]
  },
  {
   "cell_type": "markdown",
   "id": "822801ec",
   "metadata": {},
   "source": [
    "### Part0: EDA on the Data set"
   ]
  },
  {
   "cell_type": "code",
   "execution_count": 236,
   "id": "fe948a1b",
   "metadata": {},
   "outputs": [],
   "source": [
    "df = pd.read_csv(\"Data/Churn_Modelling.csv\")"
   ]
  },
  {
   "cell_type": "code",
   "execution_count": 65,
   "id": "ba6b0522",
   "metadata": {},
   "outputs": [
    {
     "data": {
      "text/html": [
       "<div>\n",
       "<style scoped>\n",
       "    .dataframe tbody tr th:only-of-type {\n",
       "        vertical-align: middle;\n",
       "    }\n",
       "\n",
       "    .dataframe tbody tr th {\n",
       "        vertical-align: top;\n",
       "    }\n",
       "\n",
       "    .dataframe thead th {\n",
       "        text-align: right;\n",
       "    }\n",
       "</style>\n",
       "<table border=\"1\" class=\"dataframe\">\n",
       "  <thead>\n",
       "    <tr style=\"text-align: right;\">\n",
       "      <th></th>\n",
       "      <th>RowNumber</th>\n",
       "      <th>CustomerId</th>\n",
       "      <th>Surname</th>\n",
       "      <th>CreditScore</th>\n",
       "      <th>Geography</th>\n",
       "      <th>Gender</th>\n",
       "      <th>Age</th>\n",
       "      <th>Tenure</th>\n",
       "      <th>Balance</th>\n",
       "      <th>NumOfProducts</th>\n",
       "      <th>HasCrCard</th>\n",
       "      <th>IsActiveMember</th>\n",
       "      <th>EstimatedSalary</th>\n",
       "      <th>Exited</th>\n",
       "    </tr>\n",
       "  </thead>\n",
       "  <tbody>\n",
       "    <tr>\n",
       "      <th>0</th>\n",
       "      <td>1</td>\n",
       "      <td>15634602</td>\n",
       "      <td>Hargrave</td>\n",
       "      <td>619</td>\n",
       "      <td>France</td>\n",
       "      <td>Female</td>\n",
       "      <td>42</td>\n",
       "      <td>2</td>\n",
       "      <td>0.00</td>\n",
       "      <td>1</td>\n",
       "      <td>1</td>\n",
       "      <td>1</td>\n",
       "      <td>101,348.88</td>\n",
       "      <td>1</td>\n",
       "    </tr>\n",
       "    <tr>\n",
       "      <th>1</th>\n",
       "      <td>2</td>\n",
       "      <td>15647311</td>\n",
       "      <td>Hill</td>\n",
       "      <td>608</td>\n",
       "      <td>Spain</td>\n",
       "      <td>Female</td>\n",
       "      <td>41</td>\n",
       "      <td>1</td>\n",
       "      <td>83,807.86</td>\n",
       "      <td>1</td>\n",
       "      <td>0</td>\n",
       "      <td>1</td>\n",
       "      <td>112,542.58</td>\n",
       "      <td>0</td>\n",
       "    </tr>\n",
       "  </tbody>\n",
       "</table>\n",
       "</div>"
      ],
      "text/plain": [
       "   RowNumber  CustomerId   Surname  CreditScore Geography  Gender  Age  \\\n",
       "0          1    15634602  Hargrave          619    France  Female   42   \n",
       "1          2    15647311      Hill          608     Spain  Female   41   \n",
       "\n",
       "   Tenure   Balance  NumOfProducts  HasCrCard  IsActiveMember  \\\n",
       "0       2      0.00              1          1               1   \n",
       "1       1 83,807.86              1          0               1   \n",
       "\n",
       "   EstimatedSalary  Exited  \n",
       "0       101,348.88       1  \n",
       "1       112,542.58       0  "
      ]
     },
     "execution_count": 65,
     "metadata": {},
     "output_type": "execute_result"
    }
   ],
   "source": [
    "df.head(2)"
   ]
  },
  {
   "cell_type": "code",
   "execution_count": 17,
   "id": "d05c6b06",
   "metadata": {},
   "outputs": [],
   "source": [
    "dfs = DataFrameSummary(df)"
   ]
  },
  {
   "cell_type": "code",
   "execution_count": 19,
   "id": "7710bb0c",
   "metadata": {},
   "outputs": [
    {
     "data": {
      "text/html": [
       "<div>\n",
       "<style scoped>\n",
       "    .dataframe tbody tr th:only-of-type {\n",
       "        vertical-align: middle;\n",
       "    }\n",
       "\n",
       "    .dataframe tbody tr th {\n",
       "        vertical-align: top;\n",
       "    }\n",
       "\n",
       "    .dataframe thead th {\n",
       "        text-align: right;\n",
       "    }\n",
       "</style>\n",
       "<table border=\"1\" class=\"dataframe\">\n",
       "  <thead>\n",
       "    <tr style=\"text-align: right;\">\n",
       "      <th></th>\n",
       "      <th>RowNumber</th>\n",
       "      <th>CustomerId</th>\n",
       "      <th>Surname</th>\n",
       "      <th>CreditScore</th>\n",
       "      <th>Geography</th>\n",
       "      <th>Gender</th>\n",
       "      <th>Age</th>\n",
       "      <th>Tenure</th>\n",
       "      <th>Balance</th>\n",
       "      <th>NumOfProducts</th>\n",
       "      <th>HasCrCard</th>\n",
       "      <th>IsActiveMember</th>\n",
       "      <th>EstimatedSalary</th>\n",
       "      <th>Exited</th>\n",
       "    </tr>\n",
       "  </thead>\n",
       "  <tbody>\n",
       "    <tr>\n",
       "      <th>counts</th>\n",
       "      <td>10000</td>\n",
       "      <td>10000</td>\n",
       "      <td>10000</td>\n",
       "      <td>10000</td>\n",
       "      <td>10000</td>\n",
       "      <td>10000</td>\n",
       "      <td>10000</td>\n",
       "      <td>10000</td>\n",
       "      <td>10000</td>\n",
       "      <td>10000</td>\n",
       "      <td>10000</td>\n",
       "      <td>10000</td>\n",
       "      <td>10000</td>\n",
       "      <td>10000</td>\n",
       "    </tr>\n",
       "    <tr>\n",
       "      <th>uniques</th>\n",
       "      <td>10000</td>\n",
       "      <td>10000</td>\n",
       "      <td>2932</td>\n",
       "      <td>460</td>\n",
       "      <td>3</td>\n",
       "      <td>2</td>\n",
       "      <td>70</td>\n",
       "      <td>11</td>\n",
       "      <td>6382</td>\n",
       "      <td>4</td>\n",
       "      <td>2</td>\n",
       "      <td>2</td>\n",
       "      <td>9999</td>\n",
       "      <td>2</td>\n",
       "    </tr>\n",
       "    <tr>\n",
       "      <th>missing</th>\n",
       "      <td>0</td>\n",
       "      <td>0</td>\n",
       "      <td>0</td>\n",
       "      <td>0</td>\n",
       "      <td>0</td>\n",
       "      <td>0</td>\n",
       "      <td>0</td>\n",
       "      <td>0</td>\n",
       "      <td>0</td>\n",
       "      <td>0</td>\n",
       "      <td>0</td>\n",
       "      <td>0</td>\n",
       "      <td>0</td>\n",
       "      <td>0</td>\n",
       "    </tr>\n",
       "    <tr>\n",
       "      <th>missing_perc</th>\n",
       "      <td>0%</td>\n",
       "      <td>0%</td>\n",
       "      <td>0%</td>\n",
       "      <td>0%</td>\n",
       "      <td>0%</td>\n",
       "      <td>0%</td>\n",
       "      <td>0%</td>\n",
       "      <td>0%</td>\n",
       "      <td>0%</td>\n",
       "      <td>0%</td>\n",
       "      <td>0%</td>\n",
       "      <td>0%</td>\n",
       "      <td>0%</td>\n",
       "      <td>0%</td>\n",
       "    </tr>\n",
       "    <tr>\n",
       "      <th>types</th>\n",
       "      <td>numeric</td>\n",
       "      <td>numeric</td>\n",
       "      <td>categorical</td>\n",
       "      <td>numeric</td>\n",
       "      <td>categorical</td>\n",
       "      <td>bool</td>\n",
       "      <td>numeric</td>\n",
       "      <td>numeric</td>\n",
       "      <td>numeric</td>\n",
       "      <td>numeric</td>\n",
       "      <td>bool</td>\n",
       "      <td>bool</td>\n",
       "      <td>numeric</td>\n",
       "      <td>bool</td>\n",
       "    </tr>\n",
       "  </tbody>\n",
       "</table>\n",
       "</div>"
      ],
      "text/plain": [
       "             RowNumber CustomerId      Surname CreditScore    Geography  \\\n",
       "counts           10000      10000        10000       10000        10000   \n",
       "uniques          10000      10000         2932         460            3   \n",
       "missing              0          0            0           0            0   \n",
       "missing_perc        0%         0%           0%          0%           0%   \n",
       "types          numeric    numeric  categorical     numeric  categorical   \n",
       "\n",
       "             Gender      Age   Tenure  Balance NumOfProducts HasCrCard  \\\n",
       "counts        10000    10000    10000    10000         10000     10000   \n",
       "uniques           2       70       11     6382             4         2   \n",
       "missing           0        0        0        0             0         0   \n",
       "missing_perc     0%       0%       0%       0%            0%        0%   \n",
       "types          bool  numeric  numeric  numeric       numeric      bool   \n",
       "\n",
       "             IsActiveMember EstimatedSalary Exited  \n",
       "counts                10000           10000  10000  \n",
       "uniques                   2            9999      2  \n",
       "missing                   0               0      0  \n",
       "missing_perc             0%              0%     0%  \n",
       "types                  bool         numeric   bool  "
      ]
     },
     "execution_count": 19,
     "metadata": {},
     "output_type": "execute_result"
    }
   ],
   "source": [
    "dfs.columns_stats"
   ]
  },
  {
   "cell_type": "markdown",
   "id": "4f23dada",
   "metadata": {},
   "source": [
    "### Summary \n",
    "- No missing data \n",
    "- Distribution of data among numeric, categorical and boolean types"
   ]
  },
  {
   "cell_type": "code",
   "execution_count": 22,
   "id": "6029aa71",
   "metadata": {},
   "outputs": [
    {
     "data": {
      "text/html": [
       "<div>\n",
       "<style scoped>\n",
       "    .dataframe tbody tr th:only-of-type {\n",
       "        vertical-align: middle;\n",
       "    }\n",
       "\n",
       "    .dataframe tbody tr th {\n",
       "        vertical-align: top;\n",
       "    }\n",
       "\n",
       "    .dataframe thead th {\n",
       "        text-align: right;\n",
       "    }\n",
       "</style>\n",
       "<table border=\"1\" class=\"dataframe\">\n",
       "  <thead>\n",
       "    <tr style=\"text-align: right;\">\n",
       "      <th></th>\n",
       "      <th>RowNumber</th>\n",
       "      <th>CustomerId</th>\n",
       "      <th>CreditScore</th>\n",
       "      <th>Age</th>\n",
       "      <th>Tenure</th>\n",
       "      <th>Balance</th>\n",
       "      <th>NumOfProducts</th>\n",
       "      <th>HasCrCard</th>\n",
       "      <th>IsActiveMember</th>\n",
       "      <th>EstimatedSalary</th>\n",
       "      <th>Exited</th>\n",
       "    </tr>\n",
       "  </thead>\n",
       "  <tbody>\n",
       "    <tr>\n",
       "      <th>count</th>\n",
       "      <td>10,000.00</td>\n",
       "      <td>10,000.00</td>\n",
       "      <td>10,000.00</td>\n",
       "      <td>10,000.00</td>\n",
       "      <td>10,000.00</td>\n",
       "      <td>10,000.00</td>\n",
       "      <td>10,000.00</td>\n",
       "      <td>10,000.00</td>\n",
       "      <td>10,000.00</td>\n",
       "      <td>10,000.00</td>\n",
       "      <td>10,000.00</td>\n",
       "    </tr>\n",
       "    <tr>\n",
       "      <th>mean</th>\n",
       "      <td>5,000.50</td>\n",
       "      <td>15,690,940.57</td>\n",
       "      <td>650.53</td>\n",
       "      <td>38.92</td>\n",
       "      <td>5.01</td>\n",
       "      <td>76,485.89</td>\n",
       "      <td>1.53</td>\n",
       "      <td>0.71</td>\n",
       "      <td>0.52</td>\n",
       "      <td>100,090.24</td>\n",
       "      <td>0.20</td>\n",
       "    </tr>\n",
       "    <tr>\n",
       "      <th>std</th>\n",
       "      <td>2,886.90</td>\n",
       "      <td>71,936.19</td>\n",
       "      <td>96.65</td>\n",
       "      <td>10.49</td>\n",
       "      <td>2.89</td>\n",
       "      <td>62,397.41</td>\n",
       "      <td>0.58</td>\n",
       "      <td>0.46</td>\n",
       "      <td>0.50</td>\n",
       "      <td>57,510.49</td>\n",
       "      <td>0.40</td>\n",
       "    </tr>\n",
       "    <tr>\n",
       "      <th>min</th>\n",
       "      <td>1.00</td>\n",
       "      <td>15,565,701.00</td>\n",
       "      <td>350.00</td>\n",
       "      <td>18.00</td>\n",
       "      <td>0.00</td>\n",
       "      <td>0.00</td>\n",
       "      <td>1.00</td>\n",
       "      <td>0.00</td>\n",
       "      <td>0.00</td>\n",
       "      <td>11.58</td>\n",
       "      <td>0.00</td>\n",
       "    </tr>\n",
       "    <tr>\n",
       "      <th>25%</th>\n",
       "      <td>2,500.75</td>\n",
       "      <td>15,628,528.25</td>\n",
       "      <td>584.00</td>\n",
       "      <td>32.00</td>\n",
       "      <td>3.00</td>\n",
       "      <td>0.00</td>\n",
       "      <td>1.00</td>\n",
       "      <td>0.00</td>\n",
       "      <td>0.00</td>\n",
       "      <td>51,002.11</td>\n",
       "      <td>0.00</td>\n",
       "    </tr>\n",
       "    <tr>\n",
       "      <th>50%</th>\n",
       "      <td>5,000.50</td>\n",
       "      <td>15,690,738.00</td>\n",
       "      <td>652.00</td>\n",
       "      <td>37.00</td>\n",
       "      <td>5.00</td>\n",
       "      <td>97,198.54</td>\n",
       "      <td>1.00</td>\n",
       "      <td>1.00</td>\n",
       "      <td>1.00</td>\n",
       "      <td>100,193.91</td>\n",
       "      <td>0.00</td>\n",
       "    </tr>\n",
       "    <tr>\n",
       "      <th>75%</th>\n",
       "      <td>7,500.25</td>\n",
       "      <td>15,753,233.75</td>\n",
       "      <td>718.00</td>\n",
       "      <td>44.00</td>\n",
       "      <td>7.00</td>\n",
       "      <td>127,644.24</td>\n",
       "      <td>2.00</td>\n",
       "      <td>1.00</td>\n",
       "      <td>1.00</td>\n",
       "      <td>149,388.25</td>\n",
       "      <td>0.00</td>\n",
       "    </tr>\n",
       "    <tr>\n",
       "      <th>max</th>\n",
       "      <td>10,000.00</td>\n",
       "      <td>15,815,690.00</td>\n",
       "      <td>850.00</td>\n",
       "      <td>92.00</td>\n",
       "      <td>10.00</td>\n",
       "      <td>250,898.09</td>\n",
       "      <td>4.00</td>\n",
       "      <td>1.00</td>\n",
       "      <td>1.00</td>\n",
       "      <td>199,992.48</td>\n",
       "      <td>1.00</td>\n",
       "    </tr>\n",
       "  </tbody>\n",
       "</table>\n",
       "</div>"
      ],
      "text/plain": [
       "       RowNumber    CustomerId  CreditScore       Age    Tenure    Balance  \\\n",
       "count  10,000.00     10,000.00    10,000.00 10,000.00 10,000.00  10,000.00   \n",
       "mean    5,000.50 15,690,940.57       650.53     38.92      5.01  76,485.89   \n",
       "std     2,886.90     71,936.19        96.65     10.49      2.89  62,397.41   \n",
       "min         1.00 15,565,701.00       350.00     18.00      0.00       0.00   \n",
       "25%     2,500.75 15,628,528.25       584.00     32.00      3.00       0.00   \n",
       "50%     5,000.50 15,690,738.00       652.00     37.00      5.00  97,198.54   \n",
       "75%     7,500.25 15,753,233.75       718.00     44.00      7.00 127,644.24   \n",
       "max    10,000.00 15,815,690.00       850.00     92.00     10.00 250,898.09   \n",
       "\n",
       "       NumOfProducts  HasCrCard  IsActiveMember  EstimatedSalary    Exited  \n",
       "count      10,000.00  10,000.00       10,000.00        10,000.00 10,000.00  \n",
       "mean            1.53       0.71            0.52       100,090.24      0.20  \n",
       "std             0.58       0.46            0.50        57,510.49      0.40  \n",
       "min             1.00       0.00            0.00            11.58      0.00  \n",
       "25%             1.00       0.00            0.00        51,002.11      0.00  \n",
       "50%             1.00       1.00            1.00       100,193.91      0.00  \n",
       "75%             2.00       1.00            1.00       149,388.25      0.00  \n",
       "max             4.00       1.00            1.00       199,992.48      1.00  "
      ]
     },
     "execution_count": 22,
     "metadata": {},
     "output_type": "execute_result"
    }
   ],
   "source": [
    "pd.options.display.float_format = \"{:,.2f}\".format\n",
    "df.describe()"
   ]
  },
  {
   "cell_type": "code",
   "execution_count": 25,
   "id": "edcff6fa",
   "metadata": {},
   "outputs": [
    {
     "data": {
      "text/plain": [
       "<AxesSubplot:>"
      ]
     },
     "execution_count": 25,
     "metadata": {},
     "output_type": "execute_result"
    },
    {
     "data": {
      "image/png": "[encoded data removed]",
      "text/plain": [
       "<Figure size 720x432 with 2 Axes>"
      ]
     },
     "metadata": {
      "needs_background": "light"
     },
     "output_type": "display_data"
    }
   ],
   "source": [
    "plt.figure(figsize=(10,6))\n",
    "sns.heatmap(df.corr())"
   ]
  },
  {
   "cell_type": "markdown",
   "id": "c0c75a6f",
   "metadata": {},
   "source": [
    "### Part1: Preprocessing the Dataset"
   ]
  },
  {
   "cell_type": "markdown",
   "id": "cdb76c00",
   "metadata": {},
   "source": [
    "1. Convert the dataframe into array. \n",
    "   - Drop column #1,2, 3(row number, cust ID, surname) <br> \n",
    "2. Separate feature and target variables\n",
    "3. Encoding for cateogorical data \n",
    "4. Split Train/test"
   ]
  },
  {
   "cell_type": "code",
   "execution_count": 99,
   "id": "768f35c9",
   "metadata": {},
   "outputs": [
    {
     "name": "stdout",
     "output_type": "stream",
     "text": [
      "<class 'numpy.ndarray'> (10000, 10)\n"
     ]
    }
   ],
   "source": [
    "dataset = df.to_numpy()\n",
    "#X = dataset[:,3:-1]\n",
    "#y = dataset[:,-1]\n",
    "print(type(X), X.shape)"
   ]
  },
  {
   "cell_type": "code",
   "execution_count": 100,
   "id": "2c07991d",
   "metadata": {},
   "outputs": [
    {
     "name": "stdout",
     "output_type": "stream",
     "text": [
      "<class 'numpy.ndarray'> (10000, 10)\n"
     ]
    }
   ],
   "source": [
    "#dataset = df.to_numpy()\n",
    "X = df.iloc[:,3:-1].values\n",
    "y = df.iloc[:,-1].values\n",
    "print(type(X), X.shape)"
   ]
  },
  {
   "cell_type": "code",
   "execution_count": 101,
   "id": "c264135f",
   "metadata": {},
   "outputs": [
    {
     "name": "stdout",
     "output_type": "stream",
     "text": [
      "(10000, 10) (10000,)\n"
     ]
    }
   ],
   "source": [
    "print(X.shape, y.shape)"
   ]
  },
  {
   "cell_type": "code",
   "execution_count": 102,
   "id": "3056174e",
   "metadata": {},
   "outputs": [
    {
     "name": "stdout",
     "output_type": "stream",
     "text": [
      "[[619 'France' 'Female' 42 2 0.0 1 1 1 101348.88]\n",
      " [608 'Spain' 'Female' 41 1 83807.86 1 0 1 112542.58]]\n"
     ]
    }
   ],
   "source": [
    "print(X[0:2])"
   ]
  },
  {
   "cell_type": "markdown",
   "id": "5f2c1d37",
   "metadata": {},
   "source": [
    "#### Label encoding of cateogorical data \"Gender\""
   ]
  },
  {
   "cell_type": "code",
   "execution_count": 103,
   "id": "ef8a0c03",
   "metadata": {},
   "outputs": [],
   "source": [
    "from sklearn.preprocessing import LabelEncoder\n",
    "l_E = LabelEncoder()\n",
    "X[:,2] = l_E.fit_transform(X[:,2])"
   ]
  },
  {
   "cell_type": "code",
   "execution_count": 104,
   "id": "4a996621",
   "metadata": {},
   "outputs": [
    {
     "name": "stdout",
     "output_type": "stream",
     "text": [
      "[[619 'France' 0 42 2 0.0 1 1 1 101348.88]\n",
      " [608 'Spain' 0 41 1 83807.86 1 0 1 112542.58]]\n"
     ]
    }
   ],
   "source": [
    "print(X[0:2])"
   ]
  },
  {
   "cell_type": "code",
   "execution_count": 105,
   "id": "3f899e63",
   "metadata": {},
   "outputs": [],
   "source": [
    "unique_elements, counts_elements = np.unique(X[:,2], return_counts=True)"
   ]
  },
  {
   "cell_type": "code",
   "execution_count": 106,
   "id": "bab63b15",
   "metadata": {},
   "outputs": [
    {
     "data": {
      "text/plain": [
       "array([0, 1], dtype=object)"
      ]
     },
     "execution_count": 106,
     "metadata": {},
     "output_type": "execute_result"
    }
   ],
   "source": [
    "unique_elements"
   ]
  },
  {
   "cell_type": "code",
   "execution_count": 107,
   "id": "5d514e09",
   "metadata": {},
   "outputs": [
    {
     "data": {
      "text/plain": [
       "array([4543, 5457], dtype=int64)"
      ]
     },
     "execution_count": 107,
     "metadata": {},
     "output_type": "execute_result"
    }
   ],
   "source": [
    "counts_elements"
   ]
  },
  {
   "cell_type": "markdown",
   "id": "6cbff81e",
   "metadata": {},
   "source": [
    "### Label encoding of cateogorical data \"Geography\""
   ]
  },
  {
   "cell_type": "code",
   "execution_count": 108,
   "id": "bf8363cc",
   "metadata": {},
   "outputs": [],
   "source": [
    "from sklearn.compose import ColumnTransformer\n",
    "from sklearn.preprocessing import OneHotEncoder"
   ]
  },
  {
   "cell_type": "code",
   "execution_count": 109,
   "id": "e09e436e",
   "metadata": {},
   "outputs": [],
   "source": [
    "#### Lets perform Onehot encoding for country column\n",
    "col_T = ColumnTransformer(transformers=[('encoder',OneHotEncoder(),[1])], remainder='passthrough')\n",
    "X = np.array(col_T.fit_transform(X))"
   ]
  },
  {
   "cell_type": "code",
   "execution_count": 110,
   "id": "2817a7a0",
   "metadata": {},
   "outputs": [
    {
     "data": {
      "text/plain": [
       "array([[1.0, 0.0, 0.0, 619, 0, 42, 2, 0.0, 1, 1, 1, 101348.88],\n",
       "       [0.0, 0.0, 1.0, 608, 0, 41, 1, 83807.86, 1, 0, 1, 112542.58]],\n",
       "      dtype=object)"
      ]
     },
     "execution_count": 110,
     "metadata": {},
     "output_type": "execute_result"
    }
   ],
   "source": [
    "X[:2,:]"
   ]
  },
  {
   "cell_type": "markdown",
   "id": "0521dbe8",
   "metadata": {},
   "source": [
    "#### After OneHotEncdong we have three new columns for  Geography "
   ]
  },
  {
   "cell_type": "markdown",
   "id": "ffc3fe7a",
   "metadata": {},
   "source": [
    "### Split the Train/Test data "
   ]
  },
  {
   "cell_type": "code",
   "execution_count": 111,
   "id": "0cf16782",
   "metadata": {},
   "outputs": [],
   "source": [
    "from sklearn.model_selection import train_test_split\n",
    "X_train, X_test, y_train,y_test = train_test_split(X,y, test_size=0.2, random_state=0)"
   ]
  },
  {
   "cell_type": "markdown",
   "id": "ea2ae714",
   "metadata": {},
   "source": [
    "### Feature scaling ( must have for Neural networks)"
   ]
  },
  {
   "cell_type": "code",
   "execution_count": 112,
   "id": "e7b92dc1",
   "metadata": {},
   "outputs": [],
   "source": [
    "from sklearn.preprocessing import StandardScaler\n",
    "std_Sc = StandardScaler()\n",
    "X_train = std_Sc.fit_transform(X_train)\n",
    "X_test = std_Sc.transform(X_test)"
   ]
  },
  {
   "cell_type": "markdown",
   "id": "677b1695",
   "metadata": {},
   "source": [
    "### Part-2 Building the Model \n",
    "1. Initializes ann with Sequential class \n",
    "2. Add input layer and dense hidden layer"
   ]
  },
  {
   "cell_type": "code",
   "execution_count": 113,
   "id": "7f930fdf",
   "metadata": {},
   "outputs": [],
   "source": [
    "ann = tf.keras.models.Sequential()"
   ]
  },
  {
   "cell_type": "markdown",
   "id": "75c068e1",
   "metadata": {},
   "source": [
    "#### Add first hidden layer "
   ]
  },
  {
   "cell_type": "code",
   "execution_count": 114,
   "id": "1a5e7600",
   "metadata": {},
   "outputs": [],
   "source": [
    "ann.add(tf.keras.layers.Dense(units=6, activation = 'relu'))"
   ]
  },
  {
   "cell_type": "markdown",
   "id": "36db3030",
   "metadata": {},
   "source": [
    "#### Add second hidden layer "
   ]
  },
  {
   "cell_type": "code",
   "execution_count": 115,
   "id": "f03666a7",
   "metadata": {},
   "outputs": [],
   "source": [
    "ann.add(tf.keras.layers.Dense(units=6, activation = 'relu'))"
   ]
  },
  {
   "cell_type": "markdown",
   "id": "a8648b94",
   "metadata": {},
   "source": [
    "#### Add output layer"
   ]
  },
  {
   "cell_type": "code",
   "execution_count": 116,
   "id": "801dd502",
   "metadata": {},
   "outputs": [],
   "source": [
    "ann.add(tf.keras.layers.Dense(units=1, activation = 'sigmoid'))"
   ]
  },
  {
   "cell_type": "markdown",
   "id": "cb9c401e",
   "metadata": {},
   "source": [
    "#### Compiling the model"
   ]
  },
  {
   "cell_type": "code",
   "execution_count": 117,
   "id": "e4ef97c4",
   "metadata": {},
   "outputs": [],
   "source": [
    "ann.compile(optimizer= \"adam\", loss= 'binary_crossentropy', metrics=['accuracy'])"
   ]
  },
  {
   "cell_type": "code",
   "execution_count": 118,
   "id": "0a7fb903",
   "metadata": {},
   "outputs": [
    {
     "name": "stdout",
     "output_type": "stream",
     "text": [
      "Epoch 1/20\n",
      "  1/250 [..............................] - ETA: 0s - loss: 0.5923 - accuracy: 0.8750WARNING:tensorflow:Callbacks method `on_train_batch_end` is slow compared to the batch time (batch time: 0.0007s vs `on_train_batch_end` time: 0.0010s). Check your callbacks.\n",
      "250/250 [==============================] - 0s 704us/step - loss: 0.5207 - accuracy: 0.7954\n",
      "Epoch 2/20\n",
      "250/250 [==============================] - 0s 584us/step - loss: 0.4595 - accuracy: 0.7961\n",
      "Epoch 3/20\n",
      "250/250 [==============================] - 0s 576us/step - loss: 0.4392 - accuracy: 0.7983\n",
      "Epoch 4/20\n",
      "250/250 [==============================] - 0s 580us/step - loss: 0.4284 - accuracy: 0.8095\n",
      "Epoch 5/20\n",
      "250/250 [==============================] - 0s 580us/step - loss: 0.4196 - accuracy: 0.8120\n",
      "Epoch 6/20\n",
      "250/250 [==============================] - 0s 640us/step - loss: 0.4101 - accuracy: 0.8191\n",
      "Epoch 7/20\n",
      "250/250 [==============================] - 0s 564us/step - loss: 0.4001 - accuracy: 0.8270\n",
      "Epoch 8/20\n",
      "250/250 [==============================] - 0s 572us/step - loss: 0.3895 - accuracy: 0.8367\n",
      "Epoch 9/20\n",
      "250/250 [==============================] - 0s 577us/step - loss: 0.3801 - accuracy: 0.8418\n",
      "Epoch 10/20\n",
      "250/250 [==============================] - 0s 568us/step - loss: 0.3723 - accuracy: 0.8455\n",
      "Epoch 11/20\n",
      "250/250 [==============================] - 0s 588us/step - loss: 0.3663 - accuracy: 0.8486\n",
      "Epoch 12/20\n",
      "250/250 [==============================] - 0s 652us/step - loss: 0.3616 - accuracy: 0.8508\n",
      "Epoch 13/20\n",
      "250/250 [==============================] - 0s 656us/step - loss: 0.3587 - accuracy: 0.8511\n",
      "Epoch 14/20\n",
      "250/250 [==============================] - 0s 600us/step - loss: 0.3561 - accuracy: 0.8540\n",
      "Epoch 15/20\n",
      "250/250 [==============================] - 0s 576us/step - loss: 0.3539 - accuracy: 0.8553\n",
      "Epoch 16/20\n",
      "250/250 [==============================] - 0s 680us/step - loss: 0.3520 - accuracy: 0.8575\n",
      "Epoch 17/20\n",
      "250/250 [==============================] - 0s 616us/step - loss: 0.3512 - accuracy: 0.8564\n",
      "Epoch 18/20\n",
      "250/250 [==============================] - 0s 673us/step - loss: 0.3499 - accuracy: 0.8572\n",
      "Epoch 19/20\n",
      "250/250 [==============================] - 0s 788us/step - loss: 0.3493 - accuracy: 0.8570\n",
      "Epoch 20/20\n",
      "250/250 [==============================] - 0s 620us/step - loss: 0.3483 - accuracy: 0.8600\n"
     ]
    },
    {
     "data": {
      "text/plain": [
       "<tensorflow.python.keras.callbacks.History at 0x1ffcc99ca30>"
      ]
     },
     "execution_count": 118,
     "metadata": {},
     "output_type": "execute_result"
    }
   ],
   "source": [
    "ann.fit(X_train, y_train, batch_size=32, epochs=20)"
   ]
  },
  {
   "cell_type": "markdown",
   "id": "3530f9e6",
   "metadata": {},
   "source": [
    "### Lets look at our model summary "
   ]
  },
  {
   "cell_type": "code",
   "execution_count": 120,
   "id": "7d56997d",
   "metadata": {},
   "outputs": [
    {
     "name": "stdout",
     "output_type": "stream",
     "text": [
      "Model: \"sequential_1\"\n",
      "_________________________________________________________________\n",
      "Layer (type)                 Output Shape              Param #   \n",
      "=================================================================\n",
      "dense_4 (Dense)              (32, 6)                   78        \n",
      "_________________________________________________________________\n",
      "dense_5 (Dense)              (32, 6)                   42        \n",
      "_________________________________________________________________\n",
      "dense_6 (Dense)              (32, 1)                   7         \n",
      "=================================================================\n",
      "Total params: 127\n",
      "Trainable params: 127\n",
      "Non-trainable params: 0\n",
      "_________________________________________________________________\n"
     ]
    }
   ],
   "source": [
    "ann.summary()"
   ]
  },
  {
   "cell_type": "markdown",
   "id": "5dbfb416",
   "metadata": {},
   "source": [
    "### Lets make out first prediction, customer#1"
   ]
  },
  {
   "cell_type": "code",
   "execution_count": 129,
   "id": "2cbf90fb",
   "metadata": {},
   "outputs": [
    {
     "data": {
      "text/plain": [
       "array([[0.47594553]], dtype=float32)"
      ]
     },
     "execution_count": 129,
     "metadata": {},
     "output_type": "execute_result"
    }
   ],
   "source": [
    "ann.predict(std_Sc.transform([[1.0, 0.0, 0.0, 619, 0, 42, 2, 0.0, 1, 1, 1, 101348.88]]))"
   ]
  },
  {
   "cell_type": "markdown",
   "id": "a427b6e7",
   "metadata": {},
   "source": [
    "- Summary: Probablity of this customer leaving the bank is .4"
   ]
  },
  {
   "cell_type": "markdown",
   "id": "58af64c2",
   "metadata": {},
   "source": [
    "### Lets make one more prediction on another, customer#2"
   ]
  },
  {
   "cell_type": "code",
   "execution_count": 136,
   "id": "2ce72a9d",
   "metadata": {},
   "outputs": [
    {
     "data": {
      "text/plain": [
       "array([[0.04137823]], dtype=float32)"
      ]
     },
     "execution_count": 136,
     "metadata": {},
     "output_type": "execute_result"
    }
   ],
   "source": [
    "ann.predict(std_Sc.transform([[1.0, 0.0, 0.0, 600, 0, 40, 3, 60000.0, 2, 1, 1, 50000.00]]))"
   ]
  },
  {
   "cell_type": "markdown",
   "id": "96a7dcf3",
   "metadata": {},
   "source": [
    "- Summary: Probablity of this customer leaving the bank is .04(very low)"
   ]
  },
  {
   "cell_type": "code",
   "execution_count": null,
   "id": "d22a980b",
   "metadata": {},
   "outputs": [],
   "source": [
    "### Some more summarization for both"
   ]
  },
  {
   "cell_type": "code",
   "execution_count": 138,
   "id": "2944c5ed",
   "metadata": {},
   "outputs": [],
   "source": [
    "prob_Customer1 = ann.predict(std_Sc.transform([[1.0, 0.0, 0.0, 619, 0, 42, 2, 0.0, 1, 1, 1, 101348.88]]))\n",
    "prob_Customer2 = ann.predict(std_Sc.transform([[1.0, 0.0, 0.0, 600, 0, 40, 3, 60000.0, 2, 1, 1, 50000.00]]))"
   ]
  },
  {
   "cell_type": "code",
   "execution_count": 145,
   "id": "33f630b6",
   "metadata": {},
   "outputs": [
    {
     "name": "stdout",
     "output_type": "stream",
     "text": [
      "[[0.47594553]] [[0.04137823]]\n"
     ]
    }
   ],
   "source": [
    "print(prob_Customer1, prob_Customer2)"
   ]
  },
  {
   "cell_type": "code",
   "execution_count": 143,
   "id": "34d8dc7e",
   "metadata": {},
   "outputs": [
    {
     "data": {
      "text/plain": [
       "'Cusomer will leave'"
      ]
     },
     "execution_count": 143,
     "metadata": {},
     "output_type": "execute_result"
    }
   ],
   "source": [
    "\"Customer will leave\" if (prob_Customer1 > .45) else \"Customer will stay\""
   ]
  },
  {
   "cell_type": "code",
   "execution_count": 146,
   "id": "e94c883b",
   "metadata": {},
   "outputs": [
    {
     "data": {
      "text/plain": [
       "'Customer will stay'"
      ]
     },
     "execution_count": 146,
     "metadata": {},
     "output_type": "execute_result"
    }
   ],
   "source": [
    "\"Customer will leave\" if (prob_Customer2 > .45) else \"Customer will stay\""
   ]
  },
  {
   "cell_type": "markdown",
   "id": "ca9e1893",
   "metadata": {},
   "source": [
    "## Predicting the Testset Results "
   ]
  },
  {
   "cell_type": "code",
   "execution_count": 218,
   "id": "3fac1b93",
   "metadata": {},
   "outputs": [],
   "source": [
    "y_pred = ann.predict(X_test)\n",
    "y_pred = (y_pred > 0.45)\n",
    "\n",
    "\n",
    "#print(np.concatenate(y_pred.reshape(len(y_pred),1), y_test.reshape(len(y_test),1),1))"
   ]
  },
  {
   "cell_type": "markdown",
   "id": "79000c03",
   "metadata": {},
   "source": [
    "### Reshaping for comparison "
   ]
  },
  {
   "cell_type": "code",
   "execution_count": 219,
   "id": "5f73c524",
   "metadata": {},
   "outputs": [
    {
     "name": "stdout",
     "output_type": "stream",
     "text": [
      "y_pred before: (2000, 1)\n",
      "y_pred after: (2000, 1)\n"
     ]
    }
   ],
   "source": [
    "print(\"y_pred before:\",y_pred.shape)\n",
    "#y_pred = y_pred.reshape(1,-1)\n",
    "print(\"y_pred after:\",y_pred.shape)"
   ]
  },
  {
   "cell_type": "code",
   "execution_count": 220,
   "id": "d3fa842e",
   "metadata": {},
   "outputs": [
    {
     "name": "stdout",
     "output_type": "stream",
     "text": [
      "y_test before: (2000, 1)\n",
      "y_test after: (2000, 1)\n"
     ]
    }
   ],
   "source": [
    "print(\"y_test before:\",y_test.shape)\n",
    "y_test = y_test.reshape(len(y_test),1)\n",
    "print(\"y_test after:\",y_test.shape)"
   ]
  },
  {
   "cell_type": "code",
   "execution_count": 221,
   "id": "db5805e7",
   "metadata": {},
   "outputs": [
    {
     "data": {
      "text/plain": [
       "array([[0, 0],\n",
       "       [0, 1],\n",
       "       [0, 0],\n",
       "       ...,\n",
       "       [0, 0],\n",
       "       [0, 0],\n",
       "       [0, 0]], dtype=int64)"
      ]
     },
     "execution_count": 221,
     "metadata": {},
     "output_type": "execute_result"
    }
   ],
   "source": [
    "np.concatenate((y_pred, y_test),1)\n",
    "# First column is predict and the second column is actual value form test data "
   ]
  },
  {
   "cell_type": "markdown",
   "id": "3f20b685",
   "metadata": {},
   "source": [
    "### Using confusion matrix to qualtify the accuracy of the model"
   ]
  },
  {
   "cell_type": "code",
   "execution_count": 222,
   "id": "ff44e903",
   "metadata": {},
   "outputs": [
    {
     "name": "stdout",
     "output_type": "stream",
     "text": [
      "Confusion matrix:\n",
      " [[1492  103]\n",
      " [ 182  223]]\n"
     ]
    }
   ],
   "source": [
    "from sklearn.metrics import confusion_matrix, accuracy_score, ConfusionMatrixDisplay\n",
    "cf_matrix = confusion_matrix(y_test, y_pred)\n",
    "print(\"Confusion matrix:\\n\",cf_matrix)"
   ]
  },
  {
   "cell_type": "code",
   "execution_count": 235,
   "id": "5fbdd25b",
   "metadata": {},
   "outputs": [
    {
     "data": {
      "text/plain": [
       "<sklearn.metrics._plot.confusion_matrix.ConfusionMatrixDisplay at 0x1ffd2a48340>"
      ]
     },
     "execution_count": 235,
     "metadata": {},
     "output_type": "execute_result"
    },
    {
     "data": {
      "text/plain": [
       "<Figure size 720x432 with 0 Axes>"
      ]
     },
     "metadata": {},
     "output_type": "display_data"
    },
    {
     "data": {
      "image/png": "[encoded data removed]",
      "text/plain": [
       "<Figure size 432x288 with 2 Axes>"
      ]
     },
     "metadata": {
      "needs_background": "light"
     },
     "output_type": "display_data"
    }
   ],
   "source": [
    "### Display confusion matrix \n",
    "disp = ConfusionMatrixDisplay(confusion_matrix(y_test, y_pred))\n",
    "plt.figure(figsize=(10,6))\n",
    "disp.plot()\n"
   ]
  },
  {
   "cell_type": "markdown",
   "id": "b4ca32bb",
   "metadata": {},
   "source": [
    "### Accuracy score "
   ]
  },
  {
   "cell_type": "code",
   "execution_count": 233,
   "id": "b020fc4a",
   "metadata": {},
   "outputs": [
    {
     "name": "stdout",
     "output_type": "stream",
     "text": [
      "Accuracy score is : 0.8575\n"
     ]
    }
   ],
   "source": [
    "print(\"Accuracy score is :\",accuracy_score(y_test, y_pred))"
   ]
  },
  {
   "cell_type": "markdown",
   "id": "6e1799fc",
   "metadata": {},
   "source": [
    "### Summary: \n",
    "- Accuracy of the model : .85 <br> i.e 85% of the time the model will be able to predict the customer churn outcome correctly\n"
   ]
  },
  {
   "cell_type": "code",
   "execution_count": null,
   "id": "085c0ec0",
   "metadata": {},
   "outputs": [],
   "source": []
  }
 ],
 "metadata": {
  "kernelspec": {
   "display_name": "Python 3",
   "language": "python",
   "name": "python3"
  },
  "language_info": {
   "codemirror_mode": {
    "name": "ipython",
    "version": 3
   },
   "file_extension": ".py",
   "mimetype": "text/x-python",
   "name": "python",
   "nbconvert_exporter": "python",
   "pygments_lexer": "ipython3",
   "version": "3.8.8"
  }
 },
 "nbformat": 4,
 "nbformat_minor": 5
}
