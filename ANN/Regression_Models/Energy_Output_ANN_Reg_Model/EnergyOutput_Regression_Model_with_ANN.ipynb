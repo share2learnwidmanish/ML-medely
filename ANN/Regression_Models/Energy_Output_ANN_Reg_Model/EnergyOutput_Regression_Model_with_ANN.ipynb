{
 "cells": [
  {
   "cell_type": "markdown",
   "id": "0ddd405b",
   "metadata": {},
   "source": [
    "## Regression model using Artifical Neural network"
   ]
  },
  {
   "cell_type": "markdown",
   "id": "4e86784a",
   "metadata": {},
   "source": [
    "### Input features:\n",
    "- Temprature, Pressure, Humidity, Vaccum ['AT', 'V', 'AP', 'RH']\n",
    "- Target feature : Energy output ['PE']"
   ]
  },
  {
   "cell_type": "code",
   "execution_count": 1,
   "id": "82233a52",
   "metadata": {},
   "outputs": [],
   "source": [
    "import pandas as pd\n",
    "import numpy as np\n",
    "import tensorflow as tf\n",
    "import matplotlib.pyplot as plt\n",
    "from pandas_summary import DataFrameSummary\n",
    "import seaborn as sns"
   ]
  },
  {
   "cell_type": "code",
   "execution_count": 2,
   "id": "a71d1524",
   "metadata": {},
   "outputs": [],
   "source": [
    "df = pd.read_excel(\"Dataset/Folds5x2_pp.xlsx\")"
   ]
  },
  {
   "cell_type": "code",
   "execution_count": 4,
   "id": "b81cbfa9",
   "metadata": {
    "scrolled": true
   },
   "outputs": [
    {
     "data": {
      "text/html": [
       "<div>\n",
       "<style scoped>\n",
       "    .dataframe tbody tr th:only-of-type {\n",
       "        vertical-align: middle;\n",
       "    }\n",
       "\n",
       "    .dataframe tbody tr th {\n",
       "        vertical-align: top;\n",
       "    }\n",
       "\n",
       "    .dataframe thead th {\n",
       "        text-align: right;\n",
       "    }\n",
       "</style>\n",
       "<table border=\"1\" class=\"dataframe\">\n",
       "  <thead>\n",
       "    <tr style=\"text-align: right;\">\n",
       "      <th></th>\n",
       "      <th>AT</th>\n",
       "      <th>V</th>\n",
       "      <th>AP</th>\n",
       "      <th>RH</th>\n",
       "      <th>PE</th>\n",
       "    </tr>\n",
       "  </thead>\n",
       "  <tbody>\n",
       "    <tr>\n",
       "      <th>0</th>\n",
       "      <td>14.96</td>\n",
       "      <td>41.76</td>\n",
       "      <td>1024.07</td>\n",
       "      <td>73.17</td>\n",
       "      <td>463.26</td>\n",
       "    </tr>\n",
       "    <tr>\n",
       "      <th>1</th>\n",
       "      <td>25.18</td>\n",
       "      <td>62.96</td>\n",
       "      <td>1020.04</td>\n",
       "      <td>59.08</td>\n",
       "      <td>444.37</td>\n",
       "    </tr>\n",
       "    <tr>\n",
       "      <th>2</th>\n",
       "      <td>5.11</td>\n",
       "      <td>39.40</td>\n",
       "      <td>1012.16</td>\n",
       "      <td>92.14</td>\n",
       "      <td>488.56</td>\n",
       "    </tr>\n",
       "    <tr>\n",
       "      <th>3</th>\n",
       "      <td>20.86</td>\n",
       "      <td>57.32</td>\n",
       "      <td>1010.24</td>\n",
       "      <td>76.64</td>\n",
       "      <td>446.48</td>\n",
       "    </tr>\n",
       "    <tr>\n",
       "      <th>4</th>\n",
       "      <td>10.82</td>\n",
       "      <td>37.50</td>\n",
       "      <td>1009.23</td>\n",
       "      <td>96.62</td>\n",
       "      <td>473.90</td>\n",
       "    </tr>\n",
       "  </tbody>\n",
       "</table>\n",
       "</div>"
      ],
      "text/plain": [
       "      AT      V       AP     RH      PE\n",
       "0  14.96  41.76  1024.07  73.17  463.26\n",
       "1  25.18  62.96  1020.04  59.08  444.37\n",
       "2   5.11  39.40  1012.16  92.14  488.56\n",
       "3  20.86  57.32  1010.24  76.64  446.48\n",
       "4  10.82  37.50  1009.23  96.62  473.90"
      ]
     },
     "execution_count": 4,
     "metadata": {},
     "output_type": "execute_result"
    }
   ],
   "source": [
    "df.head()"
   ]
  },
  {
   "cell_type": "markdown",
   "id": "033ff8ae",
   "metadata": {},
   "source": [
    "### Getting the data ready for the model \n",
    "1. Split feature and target data \n",
    "2. Train and test split "
   ]
  },
  {
   "cell_type": "code",
   "execution_count": 5,
   "id": "6ab0df61",
   "metadata": {},
   "outputs": [],
   "source": [
    "X = df.iloc[:,:-1].values\n",
    "y = df.iloc[:,-1].values"
   ]
  },
  {
   "cell_type": "code",
   "execution_count": 6,
   "id": "3fe2cb73",
   "metadata": {},
   "outputs": [
    {
     "name": "stdout",
     "output_type": "stream",
     "text": [
      "(9568, 4) (9568,)\n"
     ]
    }
   ],
   "source": [
    "print(X.shape, y.shape)"
   ]
  },
  {
   "cell_type": "code",
   "execution_count": 7,
   "id": "bb647d0f",
   "metadata": {},
   "outputs": [],
   "source": [
    "from sklearn.model_selection import train_test_split\n",
    "X_train, X_test, y_train, y_test = train_test_split(X,y, test_size=0.2, random_state=0)"
   ]
  },
  {
   "cell_type": "code",
   "execution_count": 8,
   "id": "7fce7f91",
   "metadata": {},
   "outputs": [
    {
     "name": "stdout",
     "output_type": "stream",
     "text": [
      "(7654, 4) (1914, 4)\n"
     ]
    }
   ],
   "source": [
    "print(X_train.shape, X_test.shape)"
   ]
  },
  {
   "cell_type": "markdown",
   "id": "60c3facd",
   "metadata": {},
   "source": [
    "### Building the model \n",
    "- Define the layers of the model\n",
    "- initialize the model and add hidden layers( 2 layers with 6 neurons each)"
   ]
  },
  {
   "cell_type": "code",
   "execution_count": 9,
   "id": "62d67793",
   "metadata": {},
   "outputs": [],
   "source": [
    "ann = tf.keras.models.Sequential()\n",
    "ann.add(tf.keras.layers.Dense(units=6, activation='relu'))\n",
    "ann.add(tf.keras.layers.Dense(units=6, activation='relu'))"
   ]
  },
  {
   "cell_type": "markdown",
   "id": "36a0a83b",
   "metadata": {},
   "source": [
    "### Initialize the output layer\n",
    "- Since it is regression output no activiation function is required at output layer"
   ]
  },
  {
   "cell_type": "code",
   "execution_count": 10,
   "id": "9b45c681",
   "metadata": {},
   "outputs": [],
   "source": [
    "ann.add(tf.keras.layers.Dense(units=1))"
   ]
  },
  {
   "cell_type": "markdown",
   "id": "11b000a1",
   "metadata": {},
   "source": [
    "#### Compile the model"
   ]
  },
  {
   "cell_type": "code",
   "execution_count": 11,
   "id": "a8339027",
   "metadata": {},
   "outputs": [],
   "source": [
    "ann.compile(optimizer='adam', loss='mean_squared_error')"
   ]
  },
  {
   "cell_type": "markdown",
   "id": "7d27484e",
   "metadata": {},
   "source": [
    "#### Train the model"
   ]
  },
  {
   "cell_type": "code",
   "execution_count": 12,
   "id": "cf5ddaf9",
   "metadata": {},
   "outputs": [
    {
     "name": "stdout",
     "output_type": "stream",
     "text": [
      "Epoch 1/100\n",
      "240/240 [==============================] - 0s 756us/step - loss: 169409.2812\n",
      "Epoch 2/100\n",
      "240/240 [==============================] - 0s 908us/step - loss: 4291.6831\n",
      "Epoch 3/100\n",
      "240/240 [==============================] - 0s 721us/step - loss: 615.0719\n",
      "Epoch 4/100\n",
      "240/240 [==============================] - 0s 663us/step - loss: 601.3453\n",
      "Epoch 5/100\n",
      "240/240 [==============================] - 0s 621us/step - loss: 586.3906\n",
      "Epoch 6/100\n",
      "240/240 [==============================] - 0s 683us/step - loss: 568.3507\n",
      "Epoch 7/100\n",
      "240/240 [==============================] - 0s 642us/step - loss: 548.2648\n",
      "Epoch 8/100\n",
      "240/240 [==============================] - 0s 729us/step - loss: 525.9644\n",
      "Epoch 9/100\n",
      "240/240 [==============================] - 0s 797us/step - loss: 501.8375\n",
      "Epoch 10/100\n",
      "240/240 [==============================] - 0s 1ms/step - loss: 475.8994\n",
      "Epoch 11/100\n",
      "240/240 [==============================] - 1s 2ms/step - loss: 448.1547\n",
      "Epoch 12/100\n",
      "240/240 [==============================] - 0s 1ms/step - loss: 418.7906\n",
      "Epoch 13/100\n",
      "240/240 [==============================] - 0s 675us/step - loss: 388.0807\n",
      "Epoch 14/100\n",
      "240/240 [==============================] - 0s 883us/step - loss: 356.2634\n",
      "Epoch 15/100\n",
      "240/240 [==============================] - 0s 942us/step - loss: 323.7408\n",
      "Epoch 16/100\n",
      "240/240 [==============================] - 0s 713us/step - loss: 291.6530\n",
      "Epoch 17/100\n",
      "240/240 [==============================] - 0s 700us/step - loss: 258.9615\n",
      "Epoch 18/100\n",
      "240/240 [==============================] - 0s 744us/step - loss: 227.1734\n",
      "Epoch 19/100\n",
      "240/240 [==============================] - 0s 1ms/step - loss: 196.2738\n",
      "Epoch 20/100\n",
      "240/240 [==============================] - 0s 821us/step - loss: 167.6800\n",
      "Epoch 21/100\n",
      "240/240 [==============================] - 0s 683us/step - loss: 140.8150\n",
      "Epoch 22/100\n",
      "240/240 [==============================] - 0s 704us/step - loss: 117.1888\n",
      "Epoch 23/100\n",
      "240/240 [==============================] - 0s 679us/step - loss: 96.8095\n",
      "Epoch 24/100\n",
      "240/240 [==============================] - 0s 658us/step - loss: 80.0230\n",
      "Epoch 25/100\n",
      "240/240 [==============================] - 0s 654us/step - loss: 67.0176\n",
      "Epoch 26/100\n",
      "240/240 [==============================] - 0s 667us/step - loss: 56.5584\n",
      "Epoch 27/100\n",
      "240/240 [==============================] - 0s 625us/step - loss: 48.3592\n",
      "Epoch 28/100\n",
      "240/240 [==============================] - 0s 654us/step - loss: 42.6612\n",
      "Epoch 29/100\n",
      "240/240 [==============================] - 0s 790us/step - loss: 38.2551\n",
      "Epoch 30/100\n",
      "240/240 [==============================] - 0s 858us/step - loss: 35.1276\n",
      "Epoch 31/100\n",
      "240/240 [==============================] - 0s 704us/step - loss: 32.4251\n",
      "Epoch 32/100\n",
      "240/240 [==============================] - 0s 692us/step - loss: 30.7798\n",
      "Epoch 33/100\n",
      "240/240 [==============================] - 0s 654us/step - loss: 29.3137\n",
      "Epoch 34/100\n",
      "240/240 [==============================] - 0s 636us/step - loss: 28.4363\n",
      "Epoch 35/100\n",
      "240/240 [==============================] - 0s 625us/step - loss: 27.9555\n",
      "Epoch 36/100\n",
      "240/240 [==============================] - 0s 617us/step - loss: 27.2925\n",
      "Epoch 37/100\n",
      "240/240 [==============================] - 0s 679us/step - loss: 27.3100\n",
      "Epoch 38/100\n",
      "240/240 [==============================] - 0s 833us/step - loss: 26.8827\n",
      "Epoch 39/100\n",
      "240/240 [==============================] - 0s 733us/step - loss: 26.8541\n",
      "Epoch 40/100\n",
      "240/240 [==============================] - 0s 675us/step - loss: 26.8556\n",
      "Epoch 41/100\n",
      "240/240 [==============================] - 0s 646us/step - loss: 27.1127\n",
      "Epoch 42/100\n",
      "240/240 [==============================] - 0s 679us/step - loss: 27.0620\n",
      "Epoch 43/100\n",
      "240/240 [==============================] - 0s 675us/step - loss: 26.8811\n",
      "Epoch 44/100\n",
      "240/240 [==============================] - 0s 679us/step - loss: 27.5135\n",
      "Epoch 45/100\n",
      "240/240 [==============================] - 0s 675us/step - loss: 27.4691\n",
      "Epoch 46/100\n",
      "240/240 [==============================] - 0s 825us/step - loss: 26.8286\n",
      "Epoch 47/100\n",
      "240/240 [==============================] - 0s 740us/step - loss: 26.7011\n",
      "Epoch 48/100\n",
      "240/240 [==============================] - 0s 633us/step - loss: 26.6931\n",
      "Epoch 49/100\n",
      "240/240 [==============================] - 0s 717us/step - loss: 26.7379\n",
      "Epoch 50/100\n",
      "240/240 [==============================] - 0s 658us/step - loss: 27.0667\n",
      "Epoch 51/100\n",
      "240/240 [==============================] - 0s 675us/step - loss: 26.4537\n",
      "Epoch 52/100\n",
      "240/240 [==============================] - 0s 881us/step - loss: 27.1516\n",
      "Epoch 53/100\n",
      "240/240 [==============================] - 0s 700us/step - loss: 27.4561\n",
      "Epoch 54/100\n",
      "240/240 [==============================] - 0s 725us/step - loss: 26.2124\n",
      "Epoch 55/100\n",
      "240/240 [==============================] - 0s 692us/step - loss: 26.6910\n",
      "Epoch 56/100\n",
      "240/240 [==============================] - 0s 633us/step - loss: 27.4804\n",
      "Epoch 57/100\n",
      "240/240 [==============================] - 0s 612us/step - loss: 26.8005\n",
      "Epoch 58/100\n",
      "240/240 [==============================] - 0s 679us/step - loss: 26.9352\n",
      "Epoch 59/100\n",
      "240/240 [==============================] - 0s 708us/step - loss: 27.0544\n",
      "Epoch 60/100\n",
      "240/240 [==============================] - 0s 700us/step - loss: 26.6406\n",
      "Epoch 61/100\n",
      "240/240 [==============================] - 0s 692us/step - loss: 26.7817\n",
      "Epoch 62/100\n",
      "240/240 [==============================] - 0s 671us/step - loss: 27.0657\n",
      "Epoch 63/100\n",
      "240/240 [==============================] - 0s 702us/step - loss: 27.2979\n",
      "Epoch 64/100\n",
      "240/240 [==============================] - 0s 660us/step - loss: 26.5643\n",
      "Epoch 65/100\n",
      "240/240 [==============================] - 0s 712us/step - loss: 27.2029\n",
      "Epoch 66/100\n",
      "240/240 [==============================] - 0s 658us/step - loss: 26.8564\n",
      "Epoch 67/100\n",
      "240/240 [==============================] - 0s 675us/step - loss: 26.5850\n",
      "Epoch 68/100\n",
      "240/240 [==============================] - 0s 642us/step - loss: 26.7454\n",
      "Epoch 69/100\n",
      "240/240 [==============================] - 0s 667us/step - loss: 26.8760\n",
      "Epoch 70/100\n",
      "240/240 [==============================] - 0s 617us/step - loss: 27.0202\n",
      "Epoch 71/100\n",
      "240/240 [==============================] - 0s 692us/step - loss: 26.8490\n",
      "Epoch 72/100\n",
      "240/240 [==============================] - 0s 704us/step - loss: 26.8729\n",
      "Epoch 73/100\n",
      "240/240 [==============================] - 0s 692us/step - loss: 27.1202\n",
      "Epoch 74/100\n",
      "240/240 [==============================] - 0s 725us/step - loss: 27.6763\n",
      "Epoch 75/100\n",
      "240/240 [==============================] - 0s 713us/step - loss: 26.4768\n",
      "Epoch 76/100\n",
      "240/240 [==============================] - 0s 694us/step - loss: 26.7075\n",
      "Epoch 77/100\n",
      "240/240 [==============================] - 0s 765us/step - loss: 27.3941\n",
      "Epoch 78/100\n",
      "240/240 [==============================] - 0s 750us/step - loss: 26.9659\n",
      "Epoch 79/100\n",
      "240/240 [==============================] - 0s 765us/step - loss: 27.4963\n",
      "Epoch 80/100\n",
      "240/240 [==============================] - 0s 700us/step - loss: 26.5849\n",
      "Epoch 81/100\n",
      "240/240 [==============================] - 0s 750us/step - loss: 26.7657\n",
      "Epoch 82/100\n",
      "240/240 [==============================] - 0s 642us/step - loss: 26.3663\n",
      "Epoch 83/100\n",
      "240/240 [==============================] - 0s 646us/step - loss: 26.3724\n",
      "Epoch 84/100\n",
      "240/240 [==============================] - 0s 687us/step - loss: 26.5140\n",
      "Epoch 85/100\n",
      "240/240 [==============================] - 0s 696us/step - loss: 26.5388\n",
      "Epoch 86/100\n",
      "240/240 [==============================] - 0s 817us/step - loss: 27.9259\n",
      "Epoch 87/100\n",
      "240/240 [==============================] - 0s 688us/step - loss: 26.9565\n",
      "Epoch 88/100\n",
      "240/240 [==============================] - 0s 676us/step - loss: 27.3949\n",
      "Epoch 89/100\n",
      "240/240 [==============================] - 0s 694us/step - loss: 26.6859\n",
      "Epoch 90/100\n",
      "240/240 [==============================] - 0s 704us/step - loss: 27.2618\n",
      "Epoch 91/100\n",
      "240/240 [==============================] - 0s 883us/step - loss: 26.7896\n",
      "Epoch 92/100\n",
      "240/240 [==============================] - 0s 1ms/step - loss: 26.4627\n",
      "Epoch 93/100\n",
      "240/240 [==============================] - 1s 4ms/step - loss: 26.9608: 0s -\n",
      "Epoch 94/100\n",
      "240/240 [==============================] - 0s 1ms/step - loss: 26.7035\n",
      "Epoch 95/100\n",
      "240/240 [==============================] - 0s 1ms/step - loss: 26.9111\n",
      "Epoch 96/100\n"
     ]
    },
    {
     "name": "stdout",
     "output_type": "stream",
     "text": [
      "240/240 [==============================] - 0s 913us/step - loss: 26.6282\n",
      "Epoch 97/100\n",
      "240/240 [==============================] - 0s 804us/step - loss: 27.1797\n",
      "Epoch 98/100\n",
      "240/240 [==============================] - 0s 871us/step - loss: 27.2573\n",
      "Epoch 99/100\n",
      "240/240 [==============================] - 0s 1ms/step - loss: 27.4531\n",
      "Epoch 100/100\n",
      "240/240 [==============================] - 0s 750us/step - loss: 26.4101\n"
     ]
    },
    {
     "data": {
      "text/plain": [
       "<tensorflow.python.keras.callbacks.History at 0x2453805da90>"
      ]
     },
     "execution_count": 12,
     "metadata": {},
     "output_type": "execute_result"
    }
   ],
   "source": [
    "ann.fit(X_train, y_train, batch_size=32, epochs=100)"
   ]
  },
  {
   "cell_type": "code",
   "execution_count": 13,
   "id": "54a02d79",
   "metadata": {},
   "outputs": [],
   "source": [
    "y_pred = ann.predict(X_test)"
   ]
  },
  {
   "cell_type": "code",
   "execution_count": 22,
   "id": "7da14593",
   "metadata": {},
   "outputs": [],
   "source": [
    "np.set_printoptions(precision=2)\n",
    "y_pred1 = y_pred.reshape(len(y_pred),1)\n",
    "y_test1 = y_test.reshape(len(y_test),1)"
   ]
  },
  {
   "cell_type": "code",
   "execution_count": 23,
   "id": "19ce4823",
   "metadata": {},
   "outputs": [
    {
     "data": {
      "text/plain": [
       "array([[429.63, 431.23],\n",
       "       [460.78, 460.01],\n",
       "       [464.3 , 461.14],\n",
       "       ...,\n",
       "       [471.56, 473.26],\n",
       "       [438.26, 438.  ],\n",
       "       [457.55, 463.28]])"
      ]
     },
     "execution_count": 23,
     "metadata": {},
     "output_type": "execute_result"
    }
   ],
   "source": [
    "np.concatenate((y_pred1, y_test1),1)"
   ]
  },
  {
   "cell_type": "code",
   "execution_count": 26,
   "id": "780bf4f8",
   "metadata": {},
   "outputs": [
    {
     "name": "stdout",
     "output_type": "stream",
     "text": [
      "The Mean squared error for the model is : 27.01638648262238\n"
     ]
    }
   ],
   "source": [
    "from sklearn.metrics import mean_squared_error\n",
    "print( \"The Mean squared error for the model is :\",mean_squared_error(y_test, y_pred))"
   ]
  },
  {
   "cell_type": "code",
   "execution_count": null,
   "id": "f0af8426",
   "metadata": {},
   "outputs": [],
   "source": []
  }
 ],
 "metadata": {
  "kernelspec": {
   "display_name": "Python 3",
   "language": "python",
   "name": "python3"
  },
  "language_info": {
   "codemirror_mode": {
    "name": "ipython",
    "version": 3
   },
   "file_extension": ".py",
   "mimetype": "text/x-python",
   "name": "python",
   "nbconvert_exporter": "python",
   "pygments_lexer": "ipython3",
   "version": "3.8.8"
  }
 },
 "nbformat": 4,
 "nbformat_minor": 5
}
