{
 "cells": [
  {
   "cell_type": "markdown",
   "id": "1ecf1f43",
   "metadata": {},
   "source": [
    "### Text cleanup\n",
    "- Text data is common and pandas comes with many method, one common method is  <span style='color:green'> 'str()' </span>  which provides a lot of inbuilt methods to clean up data \n",
    "- Lets see how can they be <span style='color:red'> stacked together </span>   to clean up a messy list of text data \n"
   ]
  },
  {
   "cell_type": "code",
   "execution_count": 67,
   "id": "1c39bf08",
   "metadata": {},
   "outputs": [],
   "source": [
    "import pandas as pd\n",
    "import numpy as np"
   ]
  },
  {
   "cell_type": "code",
   "execution_count": 68,
   "id": "39e45137",
   "metadata": {},
   "outputs": [],
   "source": [
    "messy_names = pd.Series([\"andrew  \",\"bo;bo\",\"  claire  \"])"
   ]
  },
  {
   "cell_type": "code",
   "execution_count": 69,
   "id": "6ea044f5",
   "metadata": {},
   "outputs": [
    {
     "data": {
      "text/plain": [
       "0      andrew  \n",
       "1         bo;bo\n",
       "2      claire  \n",
       "dtype: object"
      ]
     },
     "execution_count": 69,
     "metadata": {},
     "output_type": "execute_result"
    }
   ],
   "source": [
    "messy_names"
   ]
  },
  {
   "cell_type": "markdown",
   "id": "09ab189b",
   "metadata": {},
   "source": [
    "### There are 3 problems with the data \n",
    "- \"andrew  \" has trailing spaces\n",
    "- bobo has a ;\n",
    "- claire has leading and training white spaces<br>\n",
    "Lets see how to clean one at a time and stacking will be a concat of all the individual cleaning methods"
   ]
  },
  {
   "cell_type": "code",
   "execution_count": 76,
   "id": "109acbf9",
   "metadata": {},
   "outputs": [
    {
     "data": {
      "text/plain": [
       "'andrew'"
      ]
     },
     "execution_count": 76,
     "metadata": {},
     "output_type": "execute_result"
    }
   ],
   "source": [
    "messy_names.str.strip()[0]"
   ]
  },
  {
   "cell_type": "code",
   "execution_count": 77,
   "id": "49cf0cae",
   "metadata": {},
   "outputs": [
    {
     "data": {
      "text/plain": [
       "0      andrew  \n",
       "1          bobo\n",
       "2      claire  \n",
       "dtype: object"
      ]
     },
     "execution_count": 77,
     "metadata": {},
     "output_type": "execute_result"
    }
   ],
   "source": [
    "messy_names.str.replace(';','')"
   ]
  },
  {
   "cell_type": "code",
   "execution_count": 75,
   "id": "810ce66c",
   "metadata": {},
   "outputs": [
    {
     "data": {
      "text/plain": [
       "'claire'"
      ]
     },
     "execution_count": 75,
     "metadata": {},
     "output_type": "execute_result"
    }
   ],
   "source": [
    "messy_names.str.strip()[2]"
   ]
  },
  {
   "cell_type": "code",
   "execution_count": 78,
   "id": "ed8af0b9",
   "metadata": {},
   "outputs": [
    {
     "data": {
      "text/plain": [
       "0    Andrew\n",
       "1      Bobo\n",
       "2    Claire\n",
       "dtype: object"
      ]
     },
     "execution_count": 78,
     "metadata": {},
     "output_type": "execute_result"
    }
   ],
   "source": [
    "messy_names.str.replace(';','').str.strip().str.capitalize()"
   ]
  },
  {
   "cell_type": "code",
   "execution_count": null,
   "id": "1673fc6a",
   "metadata": {},
   "outputs": [],
   "source": []
  }
 ],
 "metadata": {
  "kernelspec": {
   "display_name": "Python 3",
   "language": "python",
   "name": "python3"
  },
  "language_info": {
   "codemirror_mode": {
    "name": "ipython",
    "version": 3
   },
   "file_extension": ".py",
   "mimetype": "text/x-python",
   "name": "python",
   "nbconvert_exporter": "python",
   "pygments_lexer": "ipython3",
   "version": "3.8.8"
  }
 },
 "nbformat": 4,
 "nbformat_minor": 5
}
