{
 "cells": [
  {
   "cell_type": "markdown",
   "id": "2896d23e",
   "metadata": {},
   "source": [
    "### Importing basic libraries "
   ]
  },
  {
   "cell_type": "code",
   "execution_count": 1,
   "id": "53be283e",
   "metadata": {},
   "outputs": [],
   "source": [
    "import pandas as pd\n",
    "import numpy as np\n",
    "from sklearn.datasets import make_classification"
   ]
  },
  {
   "cell_type": "markdown",
   "id": "fc61f1a9",
   "metadata": {},
   "source": [
    "### Lets generate some  <span style=\"color:green\">balanced</span>  data using sklearn dataset "
   ]
  },
  {
   "cell_type": "code",
   "execution_count": 2,
   "id": "b567f68b",
   "metadata": {},
   "outputs": [],
   "source": [
    "X, y = make_classification(n_samples=10000, \n",
    "                           n_features=4, \n",
    "                           n_redundant=0, \n",
    "                           random_state=42, \n",
    "                           weights=[0.5])"
   ]
  },
  {
   "cell_type": "code",
   "execution_count": 3,
   "id": "4d9d715c",
   "metadata": {},
   "outputs": [
    {
     "data": {
      "text/plain": [
       "Text(0, 0.5, 'y Feature')"
      ]
     },
     "execution_count": 3,
     "metadata": {},
     "output_type": "execute_result"
    },
    {
     "data": {
      "image/png": "[encoded data removed]",
      "text/plain": [
       "<Figure size 432x288 with 1 Axes>"
      ]
     },
     "metadata": {
      "needs_background": "light"
     },
     "output_type": "display_data"
    }
   ],
   "source": [
    "import matplotlib.pyplot as plt\n",
    "## Feature1 Vs y \n",
    "plt.scatter(X[:,0],y)\n",
    "plt.xlabel(\"X Feature #1\")\n",
    "plt.ylabel(\"y Feature\")"
   ]
  },
  {
   "cell_type": "code",
   "execution_count": 4,
   "id": "ad0da0d6",
   "metadata": {},
   "outputs": [],
   "source": [
    "#Create a dataframe, will be easy to handle \n",
    "columns = [f'feat_{i+1}' for i in range(X.shape[1])]\n",
    "X = pd.DataFrame(X, columns=columns)\n",
    "y = pd.DataFrame(y, columns=['label'])\n",
    "df = X.merge(y,left_index=True, right_index=True)"
   ]
  },
  {
   "cell_type": "code",
   "execution_count": 5,
   "id": "4b44a221",
   "metadata": {},
   "outputs": [
    {
     "data": {
      "text/html": [
       "<div>\n",
       "<style scoped>\n",
       "    .dataframe tbody tr th:only-of-type {\n",
       "        vertical-align: middle;\n",
       "    }\n",
       "\n",
       "    .dataframe tbody tr th {\n",
       "        vertical-align: top;\n",
       "    }\n",
       "\n",
       "    .dataframe thead th {\n",
       "        text-align: right;\n",
       "    }\n",
       "</style>\n",
       "<table border=\"1\" class=\"dataframe\">\n",
       "  <thead>\n",
       "    <tr style=\"text-align: right;\">\n",
       "      <th></th>\n",
       "      <th>feat_1</th>\n",
       "      <th>feat_2</th>\n",
       "      <th>feat_3</th>\n",
       "      <th>feat_4</th>\n",
       "      <th>label</th>\n",
       "    </tr>\n",
       "  </thead>\n",
       "  <tbody>\n",
       "    <tr>\n",
       "      <th>0</th>\n",
       "      <td>1.301762</td>\n",
       "      <td>-0.321127</td>\n",
       "      <td>-0.293690</td>\n",
       "      <td>0.913329</td>\n",
       "      <td>0</td>\n",
       "    </tr>\n",
       "    <tr>\n",
       "      <th>1</th>\n",
       "      <td>-2.458346</td>\n",
       "      <td>-0.828764</td>\n",
       "      <td>1.377577</td>\n",
       "      <td>-1.214044</td>\n",
       "      <td>0</td>\n",
       "    </tr>\n",
       "  </tbody>\n",
       "</table>\n",
       "</div>"
      ],
      "text/plain": [
       "     feat_1    feat_2    feat_3    feat_4  label\n",
       "0  1.301762 -0.321127 -0.293690  0.913329      0\n",
       "1 -2.458346 -0.828764  1.377577 -1.214044      0"
      ]
     },
     "execution_count": 5,
     "metadata": {},
     "output_type": "execute_result"
    }
   ],
   "source": [
    "df.head(2)"
   ]
  },
  {
   "cell_type": "code",
   "execution_count": 6,
   "id": "9c5bc213",
   "metadata": {},
   "outputs": [],
   "source": [
    "X = df.iloc[:,:-1].values\n",
    "y = df.iloc[:,-1].values"
   ]
  },
  {
   "cell_type": "code",
   "execution_count": 7,
   "id": "ff35f817",
   "metadata": {},
   "outputs": [],
   "source": [
    "from sklearn.model_selection import train_test_split\n",
    "X_train, X_test, y_train, y_test = train_test_split(X,y, test_size=0.2, random_state=42)"
   ]
  },
  {
   "cell_type": "code",
   "execution_count": 8,
   "id": "c8f6813a",
   "metadata": {},
   "outputs": [
    {
     "data": {
      "text/plain": [
       "LogisticRegression()"
      ]
     },
     "execution_count": 8,
     "metadata": {},
     "output_type": "execute_result"
    }
   ],
   "source": [
    "from sklearn.linear_model import LogisticRegression\n",
    "lreg_model = LogisticRegression()\n",
    "lreg_model.fit(X_train, y_train)"
   ]
  },
  {
   "cell_type": "code",
   "execution_count": 9,
   "id": "b0a16c6b",
   "metadata": {},
   "outputs": [],
   "source": [
    "y_pred = lreg_model.predict(X_test)"
   ]
  },
  {
   "cell_type": "code",
   "execution_count": 10,
   "id": "24121e97",
   "metadata": {},
   "outputs": [],
   "source": [
    "from sklearn.metrics import confusion_matrix, ConfusionMatrixDisplay"
   ]
  },
  {
   "cell_type": "code",
   "execution_count": 11,
   "id": "0bfe37bd",
   "metadata": {},
   "outputs": [
    {
     "data": {
      "text/plain": [
       "<sklearn.metrics._plot.confusion_matrix.ConfusionMatrixDisplay at 0x1680ac611c0>"
      ]
     },
     "execution_count": 11,
     "metadata": {},
     "output_type": "execute_result"
    },
    {
     "data": {
      "image/png": "[encoded data removed]",
      "text/plain": [
       "<Figure size 432x288 with 2 Axes>"
      ]
     },
     "metadata": {
      "needs_background": "light"
     },
     "output_type": "display_data"
    }
   ],
   "source": [
    "cm = confusion_matrix(y_test, y_pred)\n",
    "ConfusionMatrixDisplay(cm).plot()"
   ]
  },
  {
   "cell_type": "code",
   "execution_count": 16,
   "id": "91d2b90d",
   "metadata": {},
   "outputs": [
    {
     "name": "stdout",
     "output_type": "stream",
     "text": [
      "Precision score: 0.899402390438247\n"
     ]
    }
   ],
   "source": [
    "from sklearn.metrics import precision_score,recall_score, f1_score\n",
    "print( \"Precision score:\",precision_score(y_test, y_pred) )"
   ]
  },
  {
   "cell_type": "code",
   "execution_count": 17,
   "id": "d73b523a",
   "metadata": {},
   "outputs": [
    {
     "name": "stdout",
     "output_type": "stream",
     "text": [
      "Recall score 0.8914116485686081\n"
     ]
    }
   ],
   "source": [
    "print( \"Recall score\",recall_score(y_test, y_pred))"
   ]
  },
  {
   "cell_type": "code",
   "execution_count": 18,
   "id": "8a699d2f",
   "metadata": {},
   "outputs": [
    {
     "name": "stdout",
     "output_type": "stream",
     "text": [
      "F1 score 0.8953891918691125\n"
     ]
    }
   ],
   "source": [
    "print(\"F1 score\",f1_score(y_test, y_pred))"
   ]
  },
  {
   "cell_type": "code",
   "execution_count": 19,
   "id": "f224e365",
   "metadata": {},
   "outputs": [
    {
     "data": {
      "image/png": "[encoded data removed]",
      "text/plain": [
       "<Figure size 432x288 with 1 Axes>"
      ]
     },
     "metadata": {
      "needs_background": "light"
     },
     "output_type": "display_data"
    }
   ],
   "source": [
    "from sklearn.metrics import precision_recall_curve, PrecisionRecallDisplay\n",
    "prec, recall,_ = precision_recall_curve(y_test, y_pred)\n",
    "pr_display = PrecisionRecallDisplay(precision=prec, recall=recall).plot()"
   ]
  },
  {
   "cell_type": "code",
   "execution_count": 20,
   "id": "d650160b",
   "metadata": {},
   "outputs": [
    {
     "data": {
      "text/plain": [
       "<sklearn.metrics._plot.roc_curve.RocCurveDisplay at 0x1680bcc3760>"
      ]
     },
     "execution_count": 20,
     "metadata": {},
     "output_type": "execute_result"
    },
    {
     "data": {
      "image/png": "[encoded data removed]",
      "text/plain": [
       "<Figure size 432x288 with 1 Axes>"
      ]
     },
     "metadata": {
      "needs_background": "light"
     },
     "output_type": "display_data"
    }
   ],
   "source": [
    "from sklearn.metrics import roc_curve, RocCurveDisplay\n",
    "fpr, tpr, _ = roc_curve(y_test, y_pred)\n",
    "RocCurveDisplay(fpr=fpr, tpr=tpr).plot()"
   ]
  },
  {
   "cell_type": "markdown",
   "id": "374c2180",
   "metadata": {},
   "source": [
    "# Lets repeat the same exercise using  <span style=\"color:red\">\"un-balanced\"</span> data using sklearn dataset "
   ]
  },
  {
   "cell_type": "code",
   "execution_count": 39,
   "id": "544e22d9",
   "metadata": {},
   "outputs": [
    {
     "data": {
      "text/plain": [
       "Text(0, 0.5, 'y Feature')"
      ]
     },
     "execution_count": 39,
     "metadata": {},
     "output_type": "execute_result"
    },
    {
     "data": {
      "image/png": "[encoded data removed]",
      "text/plain": [
       "<Figure size 432x288 with 1 Axes>"
      ]
     },
     "metadata": {
      "needs_background": "light"
     },
     "output_type": "display_data"
    }
   ],
   "source": [
    "X1, y1 = make_classification(n_samples=10000, \n",
    "                           n_features=4, \n",
    "                           n_redundant=0, \n",
    "                           random_state=42, \n",
    "                           weights=[0.95])\n",
    "## Feature_1 Vs y \n",
    "plt.scatter(X1[:,0],y)\n",
    "plt.xlabel(\"X Feature #1\")\n",
    "plt.ylabel(\"y Feature\")"
   ]
  },
  {
   "cell_type": "code",
   "execution_count": 40,
   "id": "82ca47f2",
   "metadata": {},
   "outputs": [
    {
     "data": {
      "text/html": [
       "<div>\n",
       "<style scoped>\n",
       "    .dataframe tbody tr th:only-of-type {\n",
       "        vertical-align: middle;\n",
       "    }\n",
       "\n",
       "    .dataframe tbody tr th {\n",
       "        vertical-align: top;\n",
       "    }\n",
       "\n",
       "    .dataframe thead th {\n",
       "        text-align: right;\n",
       "    }\n",
       "</style>\n",
       "<table border=\"1\" class=\"dataframe\">\n",
       "  <thead>\n",
       "    <tr style=\"text-align: right;\">\n",
       "      <th></th>\n",
       "      <th>feat_1</th>\n",
       "      <th>feat_2</th>\n",
       "      <th>feat_3</th>\n",
       "      <th>feat_4</th>\n",
       "      <th>label</th>\n",
       "    </tr>\n",
       "  </thead>\n",
       "  <tbody>\n",
       "    <tr>\n",
       "      <th>0</th>\n",
       "      <td>1.301762</td>\n",
       "      <td>-0.321127</td>\n",
       "      <td>-0.293690</td>\n",
       "      <td>0.913329</td>\n",
       "      <td>0</td>\n",
       "    </tr>\n",
       "    <tr>\n",
       "      <th>1</th>\n",
       "      <td>-2.458346</td>\n",
       "      <td>-0.828764</td>\n",
       "      <td>1.377577</td>\n",
       "      <td>-1.214044</td>\n",
       "      <td>0</td>\n",
       "    </tr>\n",
       "  </tbody>\n",
       "</table>\n",
       "</div>"
      ],
      "text/plain": [
       "     feat_1    feat_2    feat_3    feat_4  label\n",
       "0  1.301762 -0.321127 -0.293690  0.913329      0\n",
       "1 -2.458346 -0.828764  1.377577 -1.214044      0"
      ]
     },
     "execution_count": 40,
     "metadata": {},
     "output_type": "execute_result"
    }
   ],
   "source": [
    "#Create a dataframe, will be easy to handle \n",
    "columns = [f'feat_{i+1}' for i in range(X.shape[1])]\n",
    "X1 = pd.DataFrame(X1, columns=columns)\n",
    "y1 = pd.DataFrame(y1, columns=['label'])\n",
    "df = X1.merge(y1,left_index=True, right_index=True)\n",
    "df.head(2)"
   ]
  },
  {
   "cell_type": "code",
   "execution_count": 41,
   "id": "e7258097",
   "metadata": {},
   "outputs": [
    {
     "data": {
      "text/plain": [
       "<sklearn.metrics._plot.confusion_matrix.ConfusionMatrixDisplay at 0x1680cfcbfd0>"
      ]
     },
     "execution_count": 41,
     "metadata": {},
     "output_type": "execute_result"
    },
    {
     "data": {
      "image/png": "[encoded data removed]",
      "text/plain": [
       "<Figure size 432x288 with 2 Axes>"
      ]
     },
     "metadata": {
      "needs_background": "light"
     },
     "output_type": "display_data"
    }
   ],
   "source": [
    "X1 = df.iloc[:,:-1].values\n",
    "y1 = df.iloc[:,-1].values\n",
    "from sklearn.model_selection import train_test_split\n",
    "X1_train, X1_test, y1_train, y1_test = train_test_split(X1,y1, test_size=0.2, random_state=42)\n",
    "from sklearn.linear_model import LogisticRegression\n",
    "lreg_model = LogisticRegression()\n",
    "lreg_model.fit(X1_train, y1_train)\n",
    "y1_pred = lreg_model.predict(X1_test)\n",
    "cm = confusion_matrix(y1_test, y1_pred)\n",
    "ConfusionMatrixDisplay(cm).plot()"
   ]
  },
  {
   "cell_type": "code",
   "execution_count": 42,
   "id": "8669291f",
   "metadata": {},
   "outputs": [
    {
     "name": "stdout",
     "output_type": "stream",
     "text": [
      "Precision score: 0.7241379310344828\n"
     ]
    }
   ],
   "source": [
    "from sklearn.metrics import precision_score,recall_score, f1_score\n",
    "print( \"Precision score:\",precision_score(y1_test, y1_pred) )"
   ]
  },
  {
   "cell_type": "code",
   "execution_count": 43,
   "id": "d57dff83",
   "metadata": {},
   "outputs": [
    {
     "name": "stdout",
     "output_type": "stream",
     "text": [
      "Recall score 0.3783783783783784\n"
     ]
    }
   ],
   "source": [
    "print( \"Recall score\",recall_score(y1_test, y1_pred))"
   ]
  },
  {
   "cell_type": "code",
   "execution_count": 44,
   "id": "3d48ca49",
   "metadata": {},
   "outputs": [
    {
     "name": "stdout",
     "output_type": "stream",
     "text": [
      "F1 score 0.49704142011834324\n"
     ]
    }
   ],
   "source": [
    "print(\"F1 score\",f1_score(y1_test, y1_pred))"
   ]
  },
  {
   "cell_type": "code",
   "execution_count": 45,
   "id": "d51e2f60",
   "metadata": {},
   "outputs": [
    {
     "data": {
      "image/png": "[encoded data removed]",
      "text/plain": [
       "<Figure size 432x288 with 1 Axes>"
      ]
     },
     "metadata": {
      "needs_background": "light"
     },
     "output_type": "display_data"
    }
   ],
   "source": [
    "from sklearn.metrics import precision_recall_curve, PrecisionRecallDisplay\n",
    "prec, recall,_ = precision_recall_curve(y1_test, y1_pred)\n",
    "pr_display = PrecisionRecallDisplay(precision=prec, recall=recall).plot()"
   ]
  },
  {
   "cell_type": "code",
   "execution_count": 46,
   "id": "403e904e",
   "metadata": {},
   "outputs": [
    {
     "data": {
      "text/plain": [
       "<sklearn.metrics._plot.roc_curve.RocCurveDisplay at 0x1680e164ee0>"
      ]
     },
     "execution_count": 46,
     "metadata": {},
     "output_type": "execute_result"
    },
    {
     "data": {
      "image/png": "[encoded data removed]",
      "text/plain": [
       "<Figure size 432x288 with 1 Axes>"
      ]
     },
     "metadata": {
      "needs_background": "light"
     },
     "output_type": "display_data"
    }
   ],
   "source": [
    "from sklearn.metrics import roc_curve, RocCurveDisplay\n",
    "fpr, tpr, _ = roc_curve(y1_test, y1_pred)\n",
    "RocCurveDisplay(fpr=fpr, tpr=tpr).plot()"
   ]
  },
  {
   "cell_type": "code",
   "execution_count": null,
   "id": "3b49c290",
   "metadata": {},
   "outputs": [],
   "source": []
  },
  {
   "cell_type": "code",
   "execution_count": null,
   "id": "d4d0d869",
   "metadata": {},
   "outputs": [],
   "source": []
  }
 ],
 "metadata": {
  "kernelspec": {
   "display_name": "Python 3",
   "language": "python",
   "name": "python3"
  },
  "language_info": {
   "codemirror_mode": {
    "name": "ipython",
    "version": 3
   },
   "file_extension": ".py",
   "mimetype": "text/x-python",
   "name": "python",
   "nbconvert_exporter": "python",
   "pygments_lexer": "ipython3",
   "version": "3.8.8"
  }
 },
 "nbformat": 4,
 "nbformat_minor": 5
}
