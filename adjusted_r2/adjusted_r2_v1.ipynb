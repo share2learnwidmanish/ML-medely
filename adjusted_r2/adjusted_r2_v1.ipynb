{
 "cells": [
  {
   "cell_type": "code",
   "execution_count": 3,
   "id": "25463d89",
   "metadata": {},
   "outputs": [],
   "source": [
    "import pandas as pd\n",
    "import matplotlib.pyplot as plt\n",
    "from sklearn.linear_model import LinearRegression\n",
    "from sklearn.metrics import r2_score"
   ]
  },
  {
   "cell_type": "code",
   "execution_count": 6,
   "id": "1bd4f058",
   "metadata": {},
   "outputs": [],
   "source": [
    "my_Sensible_Data = {\"Weight\":[200,250,300,400,500,600,700,750,800,900],\n",
    "                    \"Num_pages\":[198,245,300,420,480,570,650,700,725,898],\n",
    "                   }"
   ]
  },
  {
   "cell_type": "code",
   "execution_count": 7,
   "id": "f385844e",
   "metadata": {},
   "outputs": [],
   "source": [
    "df_Sensible_Data = pd.DataFrame(my_Sensible_Data,index=[\"Book1\",\"Book2\",\"Book3\",\"Book4\",\n",
    "                                                 \"Book5\",\"Book6\",\"Book7\",\"Book8\",\"Book9\",\"Book10\"])"
   ]
  },
  {
   "cell_type": "markdown",
   "id": "647182f3",
   "metadata": {},
   "source": [
    "# In the dataset above # of pages in the target while weight of the book is the parameter/feature"
   ]
  },
  {
   "cell_type": "code",
   "execution_count": 8,
   "id": "caefa013",
   "metadata": {},
   "outputs": [],
   "source": [
    "X = df_Sensible_Data.iloc[:,:-1].values\n",
    "y = df_Sensible_Data.iloc[:,-1].values"
   ]
  },
  {
   "cell_type": "code",
   "execution_count": 38,
   "id": "40e1e382",
   "metadata": {},
   "outputs": [
    {
     "name": "stdout",
     "output_type": "stream",
     "text": [
      "The R2 score with 1 feature Weight is 99.35388587596515\n"
     ]
    }
   ],
   "source": [
    "l_Sensible_Data = LinearRegression()\n",
    "l_Sensible_Data.fit(X,y)\n",
    "r2_score_Sensible_Data= r2_score(y,l_Sensible_Data.predict(X))\n",
    "print(f\"The R2 score with 1 feature Weight is {r2_score_Sensible_Data*100}\" )"
   ]
  },
  {
   "cell_type": "markdown",
   "id": "9ab123cb",
   "metadata": {},
   "source": [
    "# With some crappy rain data :)"
   ]
  },
  {
   "cell_type": "code",
   "execution_count": 28,
   "id": "8d81380f",
   "metadata": {},
   "outputs": [],
   "source": [
    "my_Sensible_with_Invalid_feature = {\"Weight\":[200,250,300,400,500,600,700,750,800,900],\n",
    "                                    \"Avg_Rain\":[20,10,70,42,25,69,60,75,79,5],\n",
    "                                    \"Num_pages\":[198,245,300,420,480,570,650,700,725,898],\n",
    "                                   }"
   ]
  },
  {
   "cell_type": "code",
   "execution_count": 29,
   "id": "bd0a6d5d",
   "metadata": {},
   "outputs": [],
   "source": [
    "df_Sensible_with_Invalid_feature = pd.DataFrame(my_Sensible_with_Invalid_feature,index=[\"Book1\",\"Book2\",\"Book3\",\"Book4\",\n",
    "                                                                     \"Book5\",\"Book6\",\"Book7\",\"Book8\",\"Book9\",\"Book10\"])"
   ]
  },
  {
   "cell_type": "markdown",
   "id": "7e85488f",
   "metadata": {},
   "source": [
    "### Why is the feature invalid ? lets see the corelation between Avg_Rain and Num_pages"
   ]
  },
  {
   "cell_type": "code",
   "execution_count": 31,
   "id": "05b28fe9",
   "metadata": {},
   "outputs": [
    {
     "data": {
      "image/png": "[encoded data removed]",
      "text/plain": [
       "<Figure size 432x288 with 1 Axes>"
      ]
     },
     "metadata": {
      "needs_background": "light"
     },
     "output_type": "display_data"
    }
   ],
   "source": [
    "plt.plot(df_Sensible_with_Invalid_feature[\"Num_pages\"], df_Sensible_with_Invalid_feature[\"Avg_Rain\"])\n",
    "plt.xlabel(\"Num pages\")\n",
    "plt.ylabel(\"Avg Rain\");           "
   ]
  },
  {
   "cell_type": "code",
   "execution_count": 32,
   "id": "f91fe64b",
   "metadata": {},
   "outputs": [
    {
     "data": {
      "text/html": [
       "<div>\n",
       "<style scoped>\n",
       "    .dataframe tbody tr th:only-of-type {\n",
       "        vertical-align: middle;\n",
       "    }\n",
       "\n",
       "    .dataframe tbody tr th {\n",
       "        vertical-align: top;\n",
       "    }\n",
       "\n",
       "    .dataframe thead th {\n",
       "        text-align: right;\n",
       "    }\n",
       "</style>\n",
       "<table border=\"1\" class=\"dataframe\">\n",
       "  <thead>\n",
       "    <tr style=\"text-align: right;\">\n",
       "      <th></th>\n",
       "      <th>Weight</th>\n",
       "      <th>Avg_Rain</th>\n",
       "      <th>Num_pages</th>\n",
       "    </tr>\n",
       "  </thead>\n",
       "  <tbody>\n",
       "    <tr>\n",
       "      <th>Weight</th>\n",
       "      <td>1.000000</td>\n",
       "      <td>0.290674</td>\n",
       "      <td>0.994938</td>\n",
       "    </tr>\n",
       "    <tr>\n",
       "      <th>Avg_Rain</th>\n",
       "      <td>0.290674</td>\n",
       "      <td>1.000000</td>\n",
       "      <td>0.231496</td>\n",
       "    </tr>\n",
       "    <tr>\n",
       "      <th>Num_pages</th>\n",
       "      <td>0.994938</td>\n",
       "      <td>0.231496</td>\n",
       "      <td>1.000000</td>\n",
       "    </tr>\n",
       "  </tbody>\n",
       "</table>\n",
       "</div>"
      ],
      "text/plain": [
       "             Weight  Avg_Rain  Num_pages\n",
       "Weight     1.000000  0.290674   0.994938\n",
       "Avg_Rain   0.290674  1.000000   0.231496\n",
       "Num_pages  0.994938  0.231496   1.000000"
      ]
     },
     "execution_count": 32,
     "metadata": {},
     "output_type": "execute_result"
    }
   ],
   "source": [
    "df_Sensible_with_Invalid_feature.corr() "
   ]
  },
  {
   "cell_type": "code",
   "execution_count": 37,
   "id": "0be1329e",
   "metadata": {},
   "outputs": [
    {
     "name": "stdout",
     "output_type": "stream",
     "text": [
      "The R2 score with 2 features Weight and Avg Rain is 99.35388587596515\n"
     ]
    }
   ],
   "source": [
    "X = df_Sensible_with_Invalid_feature.iloc[:,:-1].values\n",
    "y = df_Sensible_with_Invalid_feature.iloc[:,-1].values\n",
    "l_reg_model_Sensible_with_Invalid_feature = LinearRegression()\n",
    "l_reg_model_Sensible_with_Invalid_feature.fit(X,y)\n",
    "r2_score_Sensible_with_Invalid_feature=  r2_score(y,l_reg_model_Sensible_with_Invalid_feature.predict(X))\n",
    "print(f\"The R2 score with 2 features Weight and Avg Rain is {r2_score_Sensible_with_Invalid_feature*100}\" )"
   ]
  },
  {
   "cell_type": "markdown",
   "id": "5b33461e",
   "metadata": {},
   "source": [
    "# With some crappy rain data and Buyer height  :)"
   ]
  },
  {
   "cell_type": "code",
   "execution_count": 41,
   "id": "64492cba",
   "metadata": {},
   "outputs": [],
   "source": [
    "my_Sensible_with_two_Invalid_feature = {\"Weight\":[200,250,300,400,500,600,700,750,800,900],\n",
    "                                        \"Avg_Rain\":[20,10,70,42,25,69,60,75,79,5],\n",
    "                                         \"Buyer_height\":[120,90,20,30,400,500,600,140,240,10],\n",
    "                                        \"Num_pages\":[198,245,300,420,480,570,650,700,725,898],\n",
    "                                   }"
   ]
  },
  {
   "cell_type": "code",
   "execution_count": 43,
   "id": "2c51a191",
   "metadata": {},
   "outputs": [],
   "source": [
    "df_Sensible_with_two_Invalid_feature = pd.DataFrame(my_Sensible_with_two_Invalid_feature,index=[\"Book1\",\"Book2\",\"Book3\",\"Book4\",\n",
    "                                                 \"Book5\",\"Book6\",\"Book7\",\"Book8\",\"Book9\",\"Book10\"])"
   ]
  },
  {
   "cell_type": "code",
   "execution_count": 45,
   "id": "f5331ab3",
   "metadata": {},
   "outputs": [
    {
     "data": {
      "image/png": "[encoded data removed]",
      "text/plain": [
       "<Figure size 432x288 with 1 Axes>"
      ]
     },
     "metadata": {
      "needs_background": "light"
     },
     "output_type": "display_data"
    }
   ],
   "source": [
    "plt.plot(df_Sensible_with_two_Invalid_feature[\"Num_pages\"], df_Sensible_with_two_Invalid_feature[\"Buyer_height\"])\n",
    "plt.xlabel(\"Num pages\")\n",
    "plt.ylabel(\"Buyer_height\");"
   ]
  },
  {
   "cell_type": "code",
   "execution_count": 47,
   "id": "92fbce0c",
   "metadata": {},
   "outputs": [
    {
     "data": {
      "text/html": [
       "<div>\n",
       "<style scoped>\n",
       "    .dataframe tbody tr th:only-of-type {\n",
       "        vertical-align: middle;\n",
       "    }\n",
       "\n",
       "    .dataframe tbody tr th {\n",
       "        vertical-align: top;\n",
       "    }\n",
       "\n",
       "    .dataframe thead th {\n",
       "        text-align: right;\n",
       "    }\n",
       "</style>\n",
       "<table border=\"1\" class=\"dataframe\">\n",
       "  <thead>\n",
       "    <tr style=\"text-align: right;\">\n",
       "      <th></th>\n",
       "      <th>Weight</th>\n",
       "      <th>Avg_Rain</th>\n",
       "      <th>Buyer_height</th>\n",
       "      <th>Num_pages</th>\n",
       "    </tr>\n",
       "  </thead>\n",
       "  <tbody>\n",
       "    <tr>\n",
       "      <th>Weight</th>\n",
       "      <td>1.000000</td>\n",
       "      <td>0.290674</td>\n",
       "      <td>0.273339</td>\n",
       "      <td>0.994938</td>\n",
       "    </tr>\n",
       "    <tr>\n",
       "      <th>Avg_Rain</th>\n",
       "      <td>0.290674</td>\n",
       "      <td>1.000000</td>\n",
       "      <td>0.331262</td>\n",
       "      <td>0.231496</td>\n",
       "    </tr>\n",
       "    <tr>\n",
       "      <th>Buyer_height</th>\n",
       "      <td>0.273339</td>\n",
       "      <td>0.331262</td>\n",
       "      <td>1.000000</td>\n",
       "      <td>0.220787</td>\n",
       "    </tr>\n",
       "    <tr>\n",
       "      <th>Num_pages</th>\n",
       "      <td>0.994938</td>\n",
       "      <td>0.231496</td>\n",
       "      <td>0.220787</td>\n",
       "      <td>1.000000</td>\n",
       "    </tr>\n",
       "  </tbody>\n",
       "</table>\n",
       "</div>"
      ],
      "text/plain": [
       "                Weight  Avg_Rain  Buyer_height  Num_pages\n",
       "Weight        1.000000  0.290674      0.273339   0.994938\n",
       "Avg_Rain      0.290674  1.000000      0.331262   0.231496\n",
       "Buyer_height  0.273339  0.331262      1.000000   0.220787\n",
       "Num_pages     0.994938  0.231496      0.220787   1.000000"
      ]
     },
     "execution_count": 47,
     "metadata": {},
     "output_type": "execute_result"
    }
   ],
   "source": [
    "df_Sensible_with_two_Invalid_feature.corr() "
   ]
  },
  {
   "cell_type": "code",
   "execution_count": 53,
   "id": "e95fed78",
   "metadata": {},
   "outputs": [
    {
     "name": "stdout",
     "output_type": "stream",
     "text": [
      "The R2 score with 3 features : Weight, Buyer_height and Avg Rain is 99.49941766891132\n"
     ]
    }
   ],
   "source": [
    "X = df_Sensible_with_two_Invalid_feature.iloc[:,:-1].values\n",
    "y = df_Sensible_with_two_Invalid_feature.iloc[:,-1].values\n",
    "l_reg_model_Sensible_with_two_Invalid_feature = LinearRegression()\n",
    "l_reg_model_Sensible_with_two_Invalid_feature.fit(X,y)\n",
    "r2_score_Sensible_with_two_Invalid_feature=  r2_score(y,l_reg_model_Sensible_with_two_Invalid_feature.predict(X))\n",
    "print(f\"The R2 score with 3 features : Weight,\\\n",
    " Buyer_height and Avg Rain is {r2_score_Sensible_with_two_Invalid_feature*100}\" )"
   ]
  },
  {
   "cell_type": "code",
   "execution_count": null,
   "id": "f8b796f5",
   "metadata": {},
   "outputs": [],
   "source": []
  }
 ],
 "metadata": {
  "kernelspec": {
   "display_name": "Python 3",
   "language": "python",
   "name": "python3"
  },
  "language_info": {
   "codemirror_mode": {
    "name": "ipython",
    "version": 3
   },
   "file_extension": ".py",
   "mimetype": "text/x-python",
   "name": "python",
   "nbconvert_exporter": "python",
   "pygments_lexer": "ipython3",
   "version": "3.8.8"
  }
 },
 "nbformat": 4,
 "nbformat_minor": 5
}
